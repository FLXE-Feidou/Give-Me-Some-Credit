{
 "cells": [
  {
   "cell_type": "code",
   "execution_count": 1,
   "id": "3d926a1e",
   "metadata": {
    "ExecuteTime": {
     "end_time": "2023-03-21T01:01:20.715247Z",
     "start_time": "2023-03-21T01:01:19.483365Z"
    }
   },
   "outputs": [
    {
     "name": "stderr",
     "output_type": "stream",
     "text": [
      "C:\\Users\\Junya\\anaconda3\\lib\\site-packages\\scipy\\__init__.py:146: UserWarning: A NumPy version >=1.16.5 and <1.23.0 is required for this version of SciPy (detected version 1.23.5\n",
      "  warnings.warn(f\"A NumPy version >={np_minversion} and <{np_maxversion}\"\n"
     ]
    }
   ],
   "source": [
    "import os\n",
    "import numpy as np\n",
    "import pandas as pd\n",
    "import seaborn as sns\n",
    "import matplotlib.pyplot as plt\n",
    "from sklearn import svm\n",
    "from sklearn.linear_model import LogisticRegression\n",
    "from sklearn.tree import DecisionTreeClassifier\n",
    "from sklearn.metrics import accuracy_score\n",
    "from sklearn.model_selection import KFold"
   ]
  },
  {
   "cell_type": "markdown",
   "id": "751d168b",
   "metadata": {},
   "source": [
    "# 1. Load Data"
   ]
  },
  {
   "cell_type": "code",
   "execution_count": 2,
   "id": "b64dbe87",
   "metadata": {
    "ExecuteTime": {
     "end_time": "2023-03-21T01:01:20.948464Z",
     "start_time": "2023-03-21T01:01:20.716247Z"
    }
   },
   "outputs": [],
   "source": [
    "train_set = pd.read_csv('./cs-training.csv', index_col=0)\n",
    "test_set = pd.read_csv('./cs-test.csv', index_col=0)\n",
    "sample = pd.read_csv('./sampleEntry.csv', index_col=0)\n",
    "data_dict = pd.read_excel('./Data Dictionary.xls', header=1)"
   ]
  },
  {
   "cell_type": "code",
   "execution_count": 3,
   "id": "68bb71b6",
   "metadata": {
    "ExecuteTime": {
     "end_time": "2023-03-21T01:01:20.958431Z",
     "start_time": "2023-03-21T01:01:20.949463Z"
    }
   },
   "outputs": [
    {
     "data": {
      "text/html": [
       "<div>\n",
       "<style scoped>\n",
       "    .dataframe tbody tr th:only-of-type {\n",
       "        vertical-align: middle;\n",
       "    }\n",
       "\n",
       "    .dataframe tbody tr th {\n",
       "        vertical-align: top;\n",
       "    }\n",
       "\n",
       "    .dataframe thead th {\n",
       "        text-align: right;\n",
       "    }\n",
       "</style>\n",
       "<table border=\"1\" class=\"dataframe\">\n",
       "  <thead>\n",
       "    <tr style=\"text-align: right;\">\n",
       "      <th></th>\n",
       "      <th>Variable Name</th>\n",
       "      <th>Description</th>\n",
       "      <th>Type</th>\n",
       "    </tr>\n",
       "  </thead>\n",
       "  <tbody>\n",
       "    <tr>\n",
       "      <th>0</th>\n",
       "      <td>SeriousDlqin2yrs</td>\n",
       "      <td>Person experienced 90 days past due delinquenc...</td>\n",
       "      <td>Y/N</td>\n",
       "    </tr>\n",
       "    <tr>\n",
       "      <th>1</th>\n",
       "      <td>RevolvingUtilizationOfUnsecuredLines</td>\n",
       "      <td>Total balance on credit cards and personal lin...</td>\n",
       "      <td>percentage</td>\n",
       "    </tr>\n",
       "    <tr>\n",
       "      <th>2</th>\n",
       "      <td>age</td>\n",
       "      <td>Age of borrower in years</td>\n",
       "      <td>integer</td>\n",
       "    </tr>\n",
       "    <tr>\n",
       "      <th>3</th>\n",
       "      <td>NumberOfTime30-59DaysPastDueNotWorse</td>\n",
       "      <td>Number of times borrower has been 30-59 days p...</td>\n",
       "      <td>integer</td>\n",
       "    </tr>\n",
       "    <tr>\n",
       "      <th>4</th>\n",
       "      <td>DebtRatio</td>\n",
       "      <td>Monthly debt payments, alimony,living costs di...</td>\n",
       "      <td>percentage</td>\n",
       "    </tr>\n",
       "    <tr>\n",
       "      <th>5</th>\n",
       "      <td>MonthlyIncome</td>\n",
       "      <td>Monthly income</td>\n",
       "      <td>real</td>\n",
       "    </tr>\n",
       "    <tr>\n",
       "      <th>6</th>\n",
       "      <td>NumberOfOpenCreditLinesAndLoans</td>\n",
       "      <td>Number of Open loans (installment like car loa...</td>\n",
       "      <td>integer</td>\n",
       "    </tr>\n",
       "    <tr>\n",
       "      <th>7</th>\n",
       "      <td>NumberOfTimes90DaysLate</td>\n",
       "      <td>Number of times borrower has been 90 days or m...</td>\n",
       "      <td>integer</td>\n",
       "    </tr>\n",
       "    <tr>\n",
       "      <th>8</th>\n",
       "      <td>NumberRealEstateLoansOrLines</td>\n",
       "      <td>Number of mortgage and real estate loans inclu...</td>\n",
       "      <td>integer</td>\n",
       "    </tr>\n",
       "    <tr>\n",
       "      <th>9</th>\n",
       "      <td>NumberOfTime60-89DaysPastDueNotWorse</td>\n",
       "      <td>Number of times borrower has been 60-89 days p...</td>\n",
       "      <td>integer</td>\n",
       "    </tr>\n",
       "    <tr>\n",
       "      <th>10</th>\n",
       "      <td>NumberOfDependents</td>\n",
       "      <td>Number of dependents in family excluding thems...</td>\n",
       "      <td>integer</td>\n",
       "    </tr>\n",
       "  </tbody>\n",
       "</table>\n",
       "</div>"
      ],
      "text/plain": [
       "                           Variable Name  \\\n",
       "0                       SeriousDlqin2yrs   \n",
       "1   RevolvingUtilizationOfUnsecuredLines   \n",
       "2                                    age   \n",
       "3   NumberOfTime30-59DaysPastDueNotWorse   \n",
       "4                              DebtRatio   \n",
       "5                          MonthlyIncome   \n",
       "6        NumberOfOpenCreditLinesAndLoans   \n",
       "7                NumberOfTimes90DaysLate   \n",
       "8           NumberRealEstateLoansOrLines   \n",
       "9   NumberOfTime60-89DaysPastDueNotWorse   \n",
       "10                    NumberOfDependents   \n",
       "\n",
       "                                          Description        Type  \n",
       "0   Person experienced 90 days past due delinquenc...         Y/N  \n",
       "1   Total balance on credit cards and personal lin...  percentage  \n",
       "2                            Age of borrower in years     integer  \n",
       "3   Number of times borrower has been 30-59 days p...     integer  \n",
       "4   Monthly debt payments, alimony,living costs di...  percentage  \n",
       "5                                      Monthly income        real  \n",
       "6   Number of Open loans (installment like car loa...     integer  \n",
       "7   Number of times borrower has been 90 days or m...     integer  \n",
       "8   Number of mortgage and real estate loans inclu...     integer  \n",
       "9   Number of times borrower has been 60-89 days p...     integer  \n",
       "10  Number of dependents in family excluding thems...     integer  "
      ]
     },
     "execution_count": 3,
     "metadata": {},
     "output_type": "execute_result"
    }
   ],
   "source": [
    "data_dict"
   ]
  },
  {
   "cell_type": "markdown",
   "id": "f62e0138",
   "metadata": {},
   "source": [
    "# 2. Data Processing"
   ]
  },
  {
   "cell_type": "markdown",
   "id": "2ee4b49b",
   "metadata": {},
   "source": [
    "## 2.1 Fill Nan"
   ]
  },
  {
   "cell_type": "code",
   "execution_count": 4,
   "id": "9e98485b",
   "metadata": {
    "ExecuteTime": {
     "end_time": "2023-03-21T01:01:21.001291Z",
     "start_time": "2023-03-21T01:01:20.959431Z"
    }
   },
   "outputs": [],
   "source": [
    "for col in train_set.columns:\n",
    "    train_set.loc[:, col] = train_set[col].fillna(train_set[col].mean())\n",
    "    test_set.loc[:, col] = test_set[col].fillna(test_set[col].mean())"
   ]
  },
  {
   "cell_type": "code",
   "execution_count": 5,
   "id": "75b75441",
   "metadata": {
    "ExecuteTime": {
     "end_time": "2023-03-21T01:01:21.008268Z",
     "start_time": "2023-03-21T01:01:21.002284Z"
    }
   },
   "outputs": [
    {
     "data": {
      "text/plain": [
       "SeriousDlqin2yrs                        False\n",
       "RevolvingUtilizationOfUnsecuredLines    False\n",
       "age                                     False\n",
       "NumberOfTime30-59DaysPastDueNotWorse    False\n",
       "DebtRatio                               False\n",
       "MonthlyIncome                           False\n",
       "NumberOfOpenCreditLinesAndLoans         False\n",
       "NumberOfTimes90DaysLate                 False\n",
       "NumberRealEstateLoansOrLines            False\n",
       "NumberOfTime60-89DaysPastDueNotWorse    False\n",
       "NumberOfDependents                      False\n",
       "dtype: bool"
      ]
     },
     "execution_count": 5,
     "metadata": {},
     "output_type": "execute_result"
    }
   ],
   "source": [
    "train_set.isna().all()"
   ]
  },
  {
   "cell_type": "markdown",
   "id": "26fab703",
   "metadata": {},
   "source": [
    "## 2.2 Normalization"
   ]
  },
  {
   "cell_type": "code",
   "execution_count": 6,
   "id": "1debae38",
   "metadata": {
    "ExecuteTime": {
     "end_time": "2023-03-21T01:01:21.081022Z",
     "start_time": "2023-03-21T01:01:21.008268Z"
    }
   },
   "outputs": [],
   "source": [
    "for col in train_set.columns[1:]:\n",
    "#     ceil = train_set[col].quantile(0.975)\n",
    "#     floor = train_set[col].quantile(0.025)\n",
    "#     train_set.loc[train_set[col]>ceil, col] = ceil\n",
    "#     train_set.loc[train_set[col]<floor, col] = floor\n",
    "#     ceil = test_set[col].quantile(0.975)\n",
    "#     floor = test_set[col].quantile(0.025)\n",
    "#     test_set.loc[test_set[col]>ceil, col] = ceil\n",
    "#     test_set.loc[test_set[col]<floor, col] = floor\n",
    "    train_set.loc[:, col] = (train_set[col] - train_set[col].mean()) / train_set[col].std()\n",
    "    test_set.loc[:, col] = (test_set[col] - test_set[col].mean()) / test_set[col].std()"
   ]
  },
  {
   "cell_type": "code",
   "execution_count": 7,
   "id": "07090e5d",
   "metadata": {
    "ExecuteTime": {
     "end_time": "2023-03-21T01:01:21.093979Z",
     "start_time": "2023-03-21T01:01:21.082019Z"
    }
   },
   "outputs": [
    {
     "data": {
      "text/html": [
       "<div>\n",
       "<style scoped>\n",
       "    .dataframe tbody tr th:only-of-type {\n",
       "        vertical-align: middle;\n",
       "    }\n",
       "\n",
       "    .dataframe tbody tr th {\n",
       "        vertical-align: top;\n",
       "    }\n",
       "\n",
       "    .dataframe thead th {\n",
       "        text-align: right;\n",
       "    }\n",
       "</style>\n",
       "<table border=\"1\" class=\"dataframe\">\n",
       "  <thead>\n",
       "    <tr style=\"text-align: right;\">\n",
       "      <th></th>\n",
       "      <th>SeriousDlqin2yrs</th>\n",
       "      <th>RevolvingUtilizationOfUnsecuredLines</th>\n",
       "      <th>age</th>\n",
       "      <th>NumberOfTime30-59DaysPastDueNotWorse</th>\n",
       "      <th>DebtRatio</th>\n",
       "      <th>MonthlyIncome</th>\n",
       "      <th>NumberOfOpenCreditLinesAndLoans</th>\n",
       "      <th>NumberOfTimes90DaysLate</th>\n",
       "      <th>NumberRealEstateLoansOrLines</th>\n",
       "      <th>NumberOfTime60-89DaysPastDueNotWorse</th>\n",
       "      <th>NumberOfDependents</th>\n",
       "    </tr>\n",
       "  </thead>\n",
       "  <tbody>\n",
       "    <tr>\n",
       "      <th>1</th>\n",
       "      <td>1</td>\n",
       "      <td>-0.021150</td>\n",
       "      <td>-0.493858</td>\n",
       "      <td>0.376592</td>\n",
       "      <td>-0.172833</td>\n",
       "      <td>1.901936e-01</td>\n",
       "      <td>0.883654</td>\n",
       "      <td>-0.063793</td>\n",
       "      <td>4.409531</td>\n",
       "      <td>-0.057852</td>\n",
       "      <td>1.129383</td>\n",
       "    </tr>\n",
       "    <tr>\n",
       "      <th>2</th>\n",
       "      <td>0</td>\n",
       "      <td>-0.020385</td>\n",
       "      <td>-0.832339</td>\n",
       "      <td>-0.100419</td>\n",
       "      <td>-0.173167</td>\n",
       "      <td>-3.160000e-01</td>\n",
       "      <td>-0.865294</td>\n",
       "      <td>-0.063793</td>\n",
       "      <td>-0.901280</td>\n",
       "      <td>-0.057852</td>\n",
       "      <td>0.220626</td>\n",
       "    </tr>\n",
       "    <tr>\n",
       "      <th>3</th>\n",
       "      <td>0</td>\n",
       "      <td>-0.021582</td>\n",
       "      <td>-0.967732</td>\n",
       "      <td>0.138087</td>\n",
       "      <td>-0.173185</td>\n",
       "      <td>-2.816844e-01</td>\n",
       "      <td>-1.253949</td>\n",
       "      <td>0.176055</td>\n",
       "      <td>-0.901280</td>\n",
       "      <td>-0.057852</td>\n",
       "      <td>-0.688131</td>\n",
       "    </tr>\n",
       "    <tr>\n",
       "      <th>4</th>\n",
       "      <td>0</td>\n",
       "      <td>-0.023281</td>\n",
       "      <td>-1.509302</td>\n",
       "      <td>-0.100419</td>\n",
       "      <td>-0.173209</td>\n",
       "      <td>-2.616541e-01</td>\n",
       "      <td>-0.670966</td>\n",
       "      <td>-0.063793</td>\n",
       "      <td>-0.901280</td>\n",
       "      <td>-0.057852</td>\n",
       "      <td>-0.688131</td>\n",
       "    </tr>\n",
       "    <tr>\n",
       "      <th>5</th>\n",
       "      <td>0</td>\n",
       "      <td>-0.020585</td>\n",
       "      <td>-0.223073</td>\n",
       "      <td>0.138087</td>\n",
       "      <td>-0.173215</td>\n",
       "      <td>4.418929e+00</td>\n",
       "      <td>-0.282311</td>\n",
       "      <td>-0.063793</td>\n",
       "      <td>-0.016145</td>\n",
       "      <td>-0.057852</td>\n",
       "      <td>-0.688131</td>\n",
       "    </tr>\n",
       "    <tr>\n",
       "      <th>...</th>\n",
       "      <td>...</td>\n",
       "      <td>...</td>\n",
       "      <td>...</td>\n",
       "      <td>...</td>\n",
       "      <td>...</td>\n",
       "      <td>...</td>\n",
       "      <td>...</td>\n",
       "      <td>...</td>\n",
       "      <td>...</td>\n",
       "      <td>...</td>\n",
       "      <td>...</td>\n",
       "    </tr>\n",
       "    <tr>\n",
       "      <th>149996</th>\n",
       "      <td>0</td>\n",
       "      <td>-0.024055</td>\n",
       "      <td>1.469333</td>\n",
       "      <td>-0.100419</td>\n",
       "      <td>-0.173116</td>\n",
       "      <td>-3.548186e-01</td>\n",
       "      <td>-0.865294</td>\n",
       "      <td>-0.063793</td>\n",
       "      <td>-0.016145</td>\n",
       "      <td>-0.057852</td>\n",
       "      <td>-0.688131</td>\n",
       "    </tr>\n",
       "    <tr>\n",
       "      <th>149997</th>\n",
       "      <td>0</td>\n",
       "      <td>-0.023017</td>\n",
       "      <td>-0.561554</td>\n",
       "      <td>-0.100419</td>\n",
       "      <td>-0.172875</td>\n",
       "      <td>-8.433103e-02</td>\n",
       "      <td>-0.865294</td>\n",
       "      <td>-0.063793</td>\n",
       "      <td>-0.016145</td>\n",
       "      <td>-0.057852</td>\n",
       "      <td>1.129383</td>\n",
       "    </tr>\n",
       "    <tr>\n",
       "      <th>149998</th>\n",
       "      <td>0</td>\n",
       "      <td>-0.023232</td>\n",
       "      <td>0.386193</td>\n",
       "      <td>-0.100419</td>\n",
       "      <td>1.725863</td>\n",
       "      <td>-3.083560e-13</td>\n",
       "      <td>1.855292</td>\n",
       "      <td>-0.063793</td>\n",
       "      <td>-0.016145</td>\n",
       "      <td>-0.057852</td>\n",
       "      <td>-0.688131</td>\n",
       "    </tr>\n",
       "    <tr>\n",
       "      <th>149999</th>\n",
       "      <td>0</td>\n",
       "      <td>-0.024217</td>\n",
       "      <td>-1.509302</td>\n",
       "      <td>-0.100419</td>\n",
       "      <td>-0.173227</td>\n",
       "      <td>-7.408294e-02</td>\n",
       "      <td>-0.865294</td>\n",
       "      <td>-0.063793</td>\n",
       "      <td>-0.901280</td>\n",
       "      <td>-0.057852</td>\n",
       "      <td>-0.688131</td>\n",
       "    </tr>\n",
       "    <tr>\n",
       "      <th>150000</th>\n",
       "      <td>0</td>\n",
       "      <td>-0.020813</td>\n",
       "      <td>0.792371</td>\n",
       "      <td>-0.100419</td>\n",
       "      <td>-0.173104</td>\n",
       "      <td>1.155068e-01</td>\n",
       "      <td>-0.087984</td>\n",
       "      <td>-0.063793</td>\n",
       "      <td>0.868990</td>\n",
       "      <td>-0.057852</td>\n",
       "      <td>-0.688131</td>\n",
       "    </tr>\n",
       "  </tbody>\n",
       "</table>\n",
       "<p>150000 rows × 11 columns</p>\n",
       "</div>"
      ],
      "text/plain": [
       "        SeriousDlqin2yrs  RevolvingUtilizationOfUnsecuredLines       age  \\\n",
       "1                      1                             -0.021150 -0.493858   \n",
       "2                      0                             -0.020385 -0.832339   \n",
       "3                      0                             -0.021582 -0.967732   \n",
       "4                      0                             -0.023281 -1.509302   \n",
       "5                      0                             -0.020585 -0.223073   \n",
       "...                  ...                                   ...       ...   \n",
       "149996                 0                             -0.024055  1.469333   \n",
       "149997                 0                             -0.023017 -0.561554   \n",
       "149998                 0                             -0.023232  0.386193   \n",
       "149999                 0                             -0.024217 -1.509302   \n",
       "150000                 0                             -0.020813  0.792371   \n",
       "\n",
       "        NumberOfTime30-59DaysPastDueNotWorse  DebtRatio  MonthlyIncome  \\\n",
       "1                                   0.376592  -0.172833   1.901936e-01   \n",
       "2                                  -0.100419  -0.173167  -3.160000e-01   \n",
       "3                                   0.138087  -0.173185  -2.816844e-01   \n",
       "4                                  -0.100419  -0.173209  -2.616541e-01   \n",
       "5                                   0.138087  -0.173215   4.418929e+00   \n",
       "...                                      ...        ...            ...   \n",
       "149996                             -0.100419  -0.173116  -3.548186e-01   \n",
       "149997                             -0.100419  -0.172875  -8.433103e-02   \n",
       "149998                             -0.100419   1.725863  -3.083560e-13   \n",
       "149999                             -0.100419  -0.173227  -7.408294e-02   \n",
       "150000                             -0.100419  -0.173104   1.155068e-01   \n",
       "\n",
       "        NumberOfOpenCreditLinesAndLoans  NumberOfTimes90DaysLate  \\\n",
       "1                              0.883654                -0.063793   \n",
       "2                             -0.865294                -0.063793   \n",
       "3                             -1.253949                 0.176055   \n",
       "4                             -0.670966                -0.063793   \n",
       "5                             -0.282311                -0.063793   \n",
       "...                                 ...                      ...   \n",
       "149996                        -0.865294                -0.063793   \n",
       "149997                        -0.865294                -0.063793   \n",
       "149998                         1.855292                -0.063793   \n",
       "149999                        -0.865294                -0.063793   \n",
       "150000                        -0.087984                -0.063793   \n",
       "\n",
       "        NumberRealEstateLoansOrLines  NumberOfTime60-89DaysPastDueNotWorse  \\\n",
       "1                           4.409531                             -0.057852   \n",
       "2                          -0.901280                             -0.057852   \n",
       "3                          -0.901280                             -0.057852   \n",
       "4                          -0.901280                             -0.057852   \n",
       "5                          -0.016145                             -0.057852   \n",
       "...                              ...                                   ...   \n",
       "149996                     -0.016145                             -0.057852   \n",
       "149997                     -0.016145                             -0.057852   \n",
       "149998                     -0.016145                             -0.057852   \n",
       "149999                     -0.901280                             -0.057852   \n",
       "150000                      0.868990                             -0.057852   \n",
       "\n",
       "        NumberOfDependents  \n",
       "1                 1.129383  \n",
       "2                 0.220626  \n",
       "3                -0.688131  \n",
       "4                -0.688131  \n",
       "5                -0.688131  \n",
       "...                    ...  \n",
       "149996           -0.688131  \n",
       "149997            1.129383  \n",
       "149998           -0.688131  \n",
       "149999           -0.688131  \n",
       "150000           -0.688131  \n",
       "\n",
       "[150000 rows x 11 columns]"
      ]
     },
     "execution_count": 7,
     "metadata": {},
     "output_type": "execute_result"
    }
   ],
   "source": [
    "train_set"
   ]
  },
  {
   "cell_type": "markdown",
   "id": "c6b95d9d",
   "metadata": {},
   "source": [
    "# 3. Feature Selection"
   ]
  },
  {
   "cell_type": "code",
   "execution_count": 8,
   "id": "3aba1559",
   "metadata": {
    "ExecuteTime": {
     "end_time": "2023-03-21T01:01:21.114909Z",
     "start_time": "2023-03-21T01:01:21.093979Z"
    }
   },
   "outputs": [],
   "source": [
    "train_x = train_set.iloc[:, 1:].values\n",
    "train_y = train_set.iloc[:, 0].values"
   ]
  },
  {
   "cell_type": "code",
   "execution_count": 9,
   "id": "d872956c",
   "metadata": {
    "ExecuteTime": {
     "end_time": "2023-03-21T01:01:21.118896Z",
     "start_time": "2023-03-21T01:01:21.115905Z"
    }
   },
   "outputs": [],
   "source": [
    "fs = LogisticRegression(penalty='l1', C=8.0e-4, solver='liblinear')"
   ]
  },
  {
   "cell_type": "code",
   "execution_count": 10,
   "id": "62296a9e",
   "metadata": {
    "ExecuteTime": {
     "end_time": "2023-03-21T01:01:21.246470Z",
     "start_time": "2023-03-21T01:01:21.119893Z"
    }
   },
   "outputs": [
    {
     "data": {
      "text/plain": [
       "LogisticRegression(C=0.0008, penalty='l1', solver='liblinear')"
      ]
     },
     "execution_count": 10,
     "metadata": {},
     "output_type": "execute_result"
    }
   ],
   "source": [
    "fs.fit(train_x, train_y)"
   ]
  },
  {
   "cell_type": "code",
   "execution_count": 11,
   "id": "30dc3c16",
   "metadata": {
    "ExecuteTime": {
     "end_time": "2023-03-21T01:01:21.336170Z",
     "start_time": "2023-03-21T01:01:21.247468Z"
    }
   },
   "outputs": [
    {
     "data": {
      "image/png": "[encoded data removed]",
      "text/plain": [
       "<Figure size 432x288 with 1 Axes>"
      ]
     },
     "metadata": {
      "needs_background": "light"
     },
     "output_type": "display_data"
    }
   ],
   "source": [
    "plt.bar(range(train_set.shape[1]-1), fs.coef_[0, :])\n",
    "plt.xlabel('Variable')\n",
    "plt.ylabel('Coefficient')\n",
    "plt.show()"
   ]
  },
  {
   "cell_type": "markdown",
   "id": "16b31f5a",
   "metadata": {},
   "source": [
    "Selected 2 Features "
   ]
  },
  {
   "cell_type": "code",
   "execution_count": 12,
   "id": "5244e036",
   "metadata": {
    "ExecuteTime": {
     "end_time": "2023-03-21T01:01:21.340159Z",
     "start_time": "2023-03-21T01:01:21.336170Z"
    }
   },
   "outputs": [
    {
     "name": "stdout",
     "output_type": "stream",
     "text": [
      "['age', 'NumberOfTime30-59DaysPastDueNotWorse']\n"
     ]
    }
   ],
   "source": [
    "val_f = train_set.columns[1:][np.where(np.abs(fs.coef_[0, :])>0.05)]\n",
    "print(list(val_f))"
   ]
  },
  {
   "cell_type": "markdown",
   "id": "d7688a07",
   "metadata": {
    "ExecuteTime": {
     "end_time": "2023-03-20T15:24:39.405426Z",
     "start_time": "2023-03-20T15:24:39.400496Z"
    }
   },
   "source": [
    "# 4. Prediction"
   ]
  },
  {
   "cell_type": "code",
   "execution_count": 13,
   "id": "64f3e6dc",
   "metadata": {
    "ExecuteTime": {
     "end_time": "2023-03-21T01:01:21.369061Z",
     "start_time": "2023-03-21T01:01:21.340159Z"
    }
   },
   "outputs": [],
   "source": [
    "train_x = train_set.loc[:, val_f].values\n",
    "train_y = train_set.iloc[:, 0].values\n",
    "test_x = test_set.loc[:, val_f].values\n",
    "test_y = test_set.iloc[:, 0].values"
   ]
  },
  {
   "cell_type": "code",
   "execution_count": 14,
   "id": "78467797",
   "metadata": {
    "ExecuteTime": {
     "end_time": "2023-03-21T01:01:21.374049Z",
     "start_time": "2023-03-21T01:01:21.370071Z"
    }
   },
   "outputs": [
    {
     "data": {
      "text/plain": [
       "5"
      ]
     },
     "execution_count": 14,
     "metadata": {},
     "output_type": "execute_result"
    }
   ],
   "source": [
    "kf = KFold(n_splits=5)\n",
    "kf.get_n_splits(train_x)"
   ]
  },
  {
   "cell_type": "markdown",
   "id": "920158da",
   "metadata": {},
   "source": [
    "## 4.1 LR"
   ]
  },
  {
   "cell_type": "code",
   "execution_count": 15,
   "id": "3f7799d5",
   "metadata": {
    "ExecuteTime": {
     "end_time": "2023-03-21T01:01:21.378077Z",
     "start_time": "2023-03-21T01:01:21.375040Z"
    }
   },
   "outputs": [],
   "source": [
    "predictor_lr = LogisticRegression(penalty='l1', random_state=0, solver='liblinear')"
   ]
  },
  {
   "cell_type": "code",
   "execution_count": 16,
   "id": "bf814645",
   "metadata": {
    "ExecuteTime": {
     "end_time": "2023-03-21T01:01:22.961736Z",
     "start_time": "2023-03-21T01:01:21.379027Z"
    }
   },
   "outputs": [],
   "source": [
    "res_lr = pd.Series(data=None, index=[1e-4, 1e-3, 1e-2, 0.1, 0.5, 1], dtype='object') \n",
    "for c in [1e-4, 1e-3, 1e-2, 0.1, 0.5, 1]:\n",
    "    predictor_lr.set_params(C=c)\n",
    "    res = list()\n",
    "    for i, (train_idx, test_idx) in enumerate(kf.split(train_x)):\n",
    "        predictor_lr.fit(train_x[train_idx, :], train_y[train_idx])\n",
    "        y_pred = predictor_lr.predict(train_x[test_idx, :])\n",
    "        res.append(accuracy_score(y_pred, train_y[test_idx]))\n",
    "    res_lr.loc[c] = np.mean(res)"
   ]
  },
  {
   "cell_type": "code",
   "execution_count": 17,
   "id": "f3663bee",
   "metadata": {
    "ExecuteTime": {
     "end_time": "2023-03-21T01:01:22.966724Z",
     "start_time": "2023-03-21T01:01:22.961736Z"
    }
   },
   "outputs": [
    {
     "data": {
      "text/plain": [
       "0.0001     0.93316\n",
       "0.0010    0.933247\n",
       "0.0100    0.933327\n",
       "0.1000    0.933327\n",
       "0.5000    0.933327\n",
       "1.0000    0.933327\n",
       "dtype: object"
      ]
     },
     "execution_count": 17,
     "metadata": {},
     "output_type": "execute_result"
    }
   ],
   "source": [
    "res_lr"
   ]
  },
  {
   "cell_type": "markdown",
   "id": "5199b450",
   "metadata": {},
   "source": [
    "## 4.2 Decision Tree"
   ]
  },
  {
   "cell_type": "code",
   "execution_count": 18,
   "id": "8f3cd76d",
   "metadata": {
    "ExecuteTime": {
     "end_time": "2023-03-21T01:01:22.970702Z",
     "start_time": "2023-03-21T01:01:22.967712Z"
    }
   },
   "outputs": [],
   "source": [
    "predictor_tree = DecisionTreeClassifier(criterion='gini', random_state=0)"
   ]
  },
  {
   "cell_type": "code",
   "execution_count": 19,
   "id": "43d34c64",
   "metadata": {
    "ExecuteTime": {
     "end_time": "2023-03-21T01:01:23.665454Z",
     "start_time": "2023-03-21T01:01:22.971698Z"
    }
   },
   "outputs": [],
   "source": [
    "res_tree = pd.Series(data=None, index=[2, 3, 4, 5, 6, 10], dtype='object') \n",
    "for d in [2, 3, 4, 5, 6, 10]:\n",
    "    predictor_tree.set_params(max_depth=d)\n",
    "    res = list()\n",
    "    for i, (train_idx, test_idx) in enumerate(kf.split(train_x)):\n",
    "        predictor_tree.fit(train_x[train_idx, :], train_y[train_idx])\n",
    "        y_pred = predictor_tree.predict(train_x[test_idx, :])\n",
    "        res.append(accuracy_score(y_pred, train_y[test_idx]))\n",
    "    res_tree.loc[d] = np.mean(res)"
   ]
  },
  {
   "cell_type": "code",
   "execution_count": 20,
   "id": "924220f6",
   "metadata": {
    "ExecuteTime": {
     "end_time": "2023-03-21T01:01:23.671359Z",
     "start_time": "2023-03-21T01:01:23.666376Z"
    }
   },
   "outputs": [
    {
     "data": {
      "text/plain": [
       "2      0.93316\n",
       "3      0.93316\n",
       "4     0.932933\n",
       "5      0.93314\n",
       "6     0.933527\n",
       "10      0.9331\n",
       "dtype: object"
      ]
     },
     "execution_count": 20,
     "metadata": {},
     "output_type": "execute_result"
    }
   ],
   "source": [
    "res_tree"
   ]
  },
  {
   "cell_type": "markdown",
   "id": "1a2c965d",
   "metadata": {},
   "source": [
    "## 4.3 SVM "
   ]
  },
  {
   "cell_type": "code",
   "execution_count": 21,
   "id": "d3b46a85",
   "metadata": {
    "ExecuteTime": {
     "end_time": "2023-03-21T01:01:23.675350Z",
     "start_time": "2023-03-21T01:01:23.672355Z"
    }
   },
   "outputs": [],
   "source": [
    "predictor_svm = svm.SVC(gamma='auto', random_state=0, max_iter=500)"
   ]
  },
  {
   "cell_type": "code",
   "execution_count": 22,
   "id": "4758471f",
   "metadata": {
    "ExecuteTime": {
     "end_time": "2023-03-21T01:04:02.119420Z",
     "start_time": "2023-03-21T01:01:23.676342Z"
    }
   },
   "outputs": [
    {
     "name": "stdout",
     "output_type": "stream",
     "text": [
      "0.0001\n"
     ]
    },
    {
     "name": "stderr",
     "output_type": "stream",
     "text": [
      "C:\\Users\\Junya\\anaconda3\\lib\\site-packages\\sklearn\\svm\\_base.py:284: ConvergenceWarning: Solver terminated early (max_iter=500).  Consider pre-processing your data with StandardScaler or MinMaxScaler.\n",
      "  warnings.warn(\n",
      "C:\\Users\\Junya\\anaconda3\\lib\\site-packages\\sklearn\\svm\\_base.py:284: ConvergenceWarning: Solver terminated early (max_iter=500).  Consider pre-processing your data with StandardScaler or MinMaxScaler.\n",
      "  warnings.warn(\n",
      "C:\\Users\\Junya\\anaconda3\\lib\\site-packages\\sklearn\\svm\\_base.py:284: ConvergenceWarning: Solver terminated early (max_iter=500).  Consider pre-processing your data with StandardScaler or MinMaxScaler.\n",
      "  warnings.warn(\n",
      "C:\\Users\\Junya\\anaconda3\\lib\\site-packages\\sklearn\\svm\\_base.py:284: ConvergenceWarning: Solver terminated early (max_iter=500).  Consider pre-processing your data with StandardScaler or MinMaxScaler.\n",
      "  warnings.warn(\n",
      "C:\\Users\\Junya\\anaconda3\\lib\\site-packages\\sklearn\\svm\\_base.py:284: ConvergenceWarning: Solver terminated early (max_iter=500).  Consider pre-processing your data with StandardScaler or MinMaxScaler.\n",
      "  warnings.warn(\n"
     ]
    },
    {
     "name": "stdout",
     "output_type": "stream",
     "text": [
      "0.001\n"
     ]
    },
    {
     "name": "stderr",
     "output_type": "stream",
     "text": [
      "C:\\Users\\Junya\\anaconda3\\lib\\site-packages\\sklearn\\svm\\_base.py:284: ConvergenceWarning: Solver terminated early (max_iter=500).  Consider pre-processing your data with StandardScaler or MinMaxScaler.\n",
      "  warnings.warn(\n",
      "C:\\Users\\Junya\\anaconda3\\lib\\site-packages\\sklearn\\svm\\_base.py:284: ConvergenceWarning: Solver terminated early (max_iter=500).  Consider pre-processing your data with StandardScaler or MinMaxScaler.\n",
      "  warnings.warn(\n",
      "C:\\Users\\Junya\\anaconda3\\lib\\site-packages\\sklearn\\svm\\_base.py:284: ConvergenceWarning: Solver terminated early (max_iter=500).  Consider pre-processing your data with StandardScaler or MinMaxScaler.\n",
      "  warnings.warn(\n",
      "C:\\Users\\Junya\\anaconda3\\lib\\site-packages\\sklearn\\svm\\_base.py:284: ConvergenceWarning: Solver terminated early (max_iter=500).  Consider pre-processing your data with StandardScaler or MinMaxScaler.\n",
      "  warnings.warn(\n",
      "C:\\Users\\Junya\\anaconda3\\lib\\site-packages\\sklearn\\svm\\_base.py:284: ConvergenceWarning: Solver terminated early (max_iter=500).  Consider pre-processing your data with StandardScaler or MinMaxScaler.\n",
      "  warnings.warn(\n"
     ]
    },
    {
     "name": "stdout",
     "output_type": "stream",
     "text": [
      "0.01\n"
     ]
    },
    {
     "name": "stderr",
     "output_type": "stream",
     "text": [
      "C:\\Users\\Junya\\anaconda3\\lib\\site-packages\\sklearn\\svm\\_base.py:284: ConvergenceWarning: Solver terminated early (max_iter=500).  Consider pre-processing your data with StandardScaler or MinMaxScaler.\n",
      "  warnings.warn(\n",
      "C:\\Users\\Junya\\anaconda3\\lib\\site-packages\\sklearn\\svm\\_base.py:284: ConvergenceWarning: Solver terminated early (max_iter=500).  Consider pre-processing your data with StandardScaler or MinMaxScaler.\n",
      "  warnings.warn(\n",
      "C:\\Users\\Junya\\anaconda3\\lib\\site-packages\\sklearn\\svm\\_base.py:284: ConvergenceWarning: Solver terminated early (max_iter=500).  Consider pre-processing your data with StandardScaler or MinMaxScaler.\n",
      "  warnings.warn(\n",
      "C:\\Users\\Junya\\anaconda3\\lib\\site-packages\\sklearn\\svm\\_base.py:284: ConvergenceWarning: Solver terminated early (max_iter=500).  Consider pre-processing your data with StandardScaler or MinMaxScaler.\n",
      "  warnings.warn(\n",
      "C:\\Users\\Junya\\anaconda3\\lib\\site-packages\\sklearn\\svm\\_base.py:284: ConvergenceWarning: Solver terminated early (max_iter=500).  Consider pre-processing your data with StandardScaler or MinMaxScaler.\n",
      "  warnings.warn(\n"
     ]
    },
    {
     "name": "stdout",
     "output_type": "stream",
     "text": [
      "0.1\n"
     ]
    },
    {
     "name": "stderr",
     "output_type": "stream",
     "text": [
      "C:\\Users\\Junya\\anaconda3\\lib\\site-packages\\sklearn\\svm\\_base.py:284: ConvergenceWarning: Solver terminated early (max_iter=500).  Consider pre-processing your data with StandardScaler or MinMaxScaler.\n",
      "  warnings.warn(\n",
      "C:\\Users\\Junya\\anaconda3\\lib\\site-packages\\sklearn\\svm\\_base.py:284: ConvergenceWarning: Solver terminated early (max_iter=500).  Consider pre-processing your data with StandardScaler or MinMaxScaler.\n",
      "  warnings.warn(\n",
      "C:\\Users\\Junya\\anaconda3\\lib\\site-packages\\sklearn\\svm\\_base.py:284: ConvergenceWarning: Solver terminated early (max_iter=500).  Consider pre-processing your data with StandardScaler or MinMaxScaler.\n",
      "  warnings.warn(\n",
      "C:\\Users\\Junya\\anaconda3\\lib\\site-packages\\sklearn\\svm\\_base.py:284: ConvergenceWarning: Solver terminated early (max_iter=500).  Consider pre-processing your data with StandardScaler or MinMaxScaler.\n",
      "  warnings.warn(\n",
      "C:\\Users\\Junya\\anaconda3\\lib\\site-packages\\sklearn\\svm\\_base.py:284: ConvergenceWarning: Solver terminated early (max_iter=500).  Consider pre-processing your data with StandardScaler or MinMaxScaler.\n",
      "  warnings.warn(\n"
     ]
    },
    {
     "name": "stdout",
     "output_type": "stream",
     "text": [
      "0.5\n"
     ]
    },
    {
     "name": "stderr",
     "output_type": "stream",
     "text": [
      "C:\\Users\\Junya\\anaconda3\\lib\\site-packages\\sklearn\\svm\\_base.py:284: ConvergenceWarning: Solver terminated early (max_iter=500).  Consider pre-processing your data with StandardScaler or MinMaxScaler.\n",
      "  warnings.warn(\n",
      "C:\\Users\\Junya\\anaconda3\\lib\\site-packages\\sklearn\\svm\\_base.py:284: ConvergenceWarning: Solver terminated early (max_iter=500).  Consider pre-processing your data with StandardScaler or MinMaxScaler.\n",
      "  warnings.warn(\n",
      "C:\\Users\\Junya\\anaconda3\\lib\\site-packages\\sklearn\\svm\\_base.py:284: ConvergenceWarning: Solver terminated early (max_iter=500).  Consider pre-processing your data with StandardScaler or MinMaxScaler.\n",
      "  warnings.warn(\n",
      "C:\\Users\\Junya\\anaconda3\\lib\\site-packages\\sklearn\\svm\\_base.py:284: ConvergenceWarning: Solver terminated early (max_iter=500).  Consider pre-processing your data with StandardScaler or MinMaxScaler.\n",
      "  warnings.warn(\n",
      "C:\\Users\\Junya\\anaconda3\\lib\\site-packages\\sklearn\\svm\\_base.py:284: ConvergenceWarning: Solver terminated early (max_iter=500).  Consider pre-processing your data with StandardScaler or MinMaxScaler.\n",
      "  warnings.warn(\n"
     ]
    },
    {
     "name": "stdout",
     "output_type": "stream",
     "text": [
      "1\n"
     ]
    },
    {
     "name": "stderr",
     "output_type": "stream",
     "text": [
      "C:\\Users\\Junya\\anaconda3\\lib\\site-packages\\sklearn\\svm\\_base.py:284: ConvergenceWarning: Solver terminated early (max_iter=500).  Consider pre-processing your data with StandardScaler or MinMaxScaler.\n",
      "  warnings.warn(\n",
      "C:\\Users\\Junya\\anaconda3\\lib\\site-packages\\sklearn\\svm\\_base.py:284: ConvergenceWarning: Solver terminated early (max_iter=500).  Consider pre-processing your data with StandardScaler or MinMaxScaler.\n",
      "  warnings.warn(\n",
      "C:\\Users\\Junya\\anaconda3\\lib\\site-packages\\sklearn\\svm\\_base.py:284: ConvergenceWarning: Solver terminated early (max_iter=500).  Consider pre-processing your data with StandardScaler or MinMaxScaler.\n",
      "  warnings.warn(\n",
      "C:\\Users\\Junya\\anaconda3\\lib\\site-packages\\sklearn\\svm\\_base.py:284: ConvergenceWarning: Solver terminated early (max_iter=500).  Consider pre-processing your data with StandardScaler or MinMaxScaler.\n",
      "  warnings.warn(\n",
      "C:\\Users\\Junya\\anaconda3\\lib\\site-packages\\sklearn\\svm\\_base.py:284: ConvergenceWarning: Solver terminated early (max_iter=500).  Consider pre-processing your data with StandardScaler or MinMaxScaler.\n",
      "  warnings.warn(\n"
     ]
    }
   ],
   "source": [
    "res_svm = pd.Series(data=None, index=[1e-4, 1e-3, 1e-2, 1e-1, 0.5, 1], dtype='object') \n",
    "for c in [1e-4, 1e-3, 1e-2, 1e-1, 0.5, 1]:\n",
    "    print(c)\n",
    "    predictor_svm.set_params(C=c)\n",
    "    res = list()\n",
    "    for i, (train_idx, test_idx) in enumerate(kf.split(train_x)):\n",
    "        predictor_svm.fit(train_x[train_idx, :], train_y[train_idx])\n",
    "        y_pred = predictor_svm.predict(train_x[test_idx, :])\n",
    "        res.append(accuracy_score(y_pred, train_y[test_idx]))\n",
    "    res_svm.loc[c] = np.mean(res)"
   ]
  },
  {
   "cell_type": "code",
   "execution_count": 23,
   "id": "c3297cf9",
   "metadata": {
    "ExecuteTime": {
     "end_time": "2023-03-21T01:04:02.125396Z",
     "start_time": "2023-03-21T01:04:02.120411Z"
    }
   },
   "outputs": [
    {
     "data": {
      "text/plain": [
       "0.0001    0.231507\n",
       "0.0010    0.231507\n",
       "0.0100    0.231507\n",
       "0.1000    0.231507\n",
       "0.5000    0.231507\n",
       "1.0000    0.231507\n",
       "dtype: object"
      ]
     },
     "execution_count": 23,
     "metadata": {},
     "output_type": "execute_result"
    }
   ],
   "source": [
    "res_svm"
   ]
  },
  {
   "cell_type": "markdown",
   "id": "d9fcb42f",
   "metadata": {},
   "source": [
    "# 4. Visualization "
   ]
  },
  {
   "cell_type": "code",
   "execution_count": 24,
   "id": "bc61cb6b",
   "metadata": {
    "ExecuteTime": {
     "end_time": "2023-03-21T01:04:02.135362Z",
     "start_time": "2023-03-21T01:04:02.126393Z"
    }
   },
   "outputs": [],
   "source": [
    "from matplotlib.colors import ListedColormap\n",
    "import matplotlib.pyplot as plt\n",
    "\n",
    "# To check recent matplotlib compatibility\n",
    "import matplotlib\n",
    "from distutils.version import LooseVersion\n",
    "\n",
    "\n",
    "def plot_decision_regions(X, y, classifier, test_idx=None, resolution=0.02):\n",
    "\n",
    "    # setup marker generator and color map\n",
    "    markers = ('s', 'x', 'o', '^', 'v')\n",
    "    colors = ('red', 'blue', 'lightgreen', 'gray', 'cyan')\n",
    "    cmap = ListedColormap(colors[:len(np.unique(y))])\n",
    "\n",
    "    # plot the decision surface\n",
    "    x1_min, x1_max = X[:, 0].min() - 1, X[:, 0].max() + 1\n",
    "    x2_min, x2_max = X[:, 1].min() - 1, X[:, 1].max() + 1\n",
    "    xx1, xx2 = np.meshgrid(np.arange(x1_min, x1_max, resolution),\n",
    "                           np.arange(x2_min, x2_max, resolution))\n",
    "    Z = classifier.predict(np.array([xx1.ravel(), xx2.ravel()]).T)\n",
    "    Z = Z.reshape(xx1.shape)\n",
    "    plt.contourf(xx1, xx2, Z, alpha=0.3, cmap=cmap)\n",
    "    plt.xlim(xx1.min(), xx1.max())\n",
    "    plt.ylim(xx2.min(), xx2.max())\n",
    "\n",
    "    for idx, cl in enumerate(np.unique(y)):\n",
    "        plt.scatter(x=X[y == cl, 0], \n",
    "                    y=X[y == cl, 1],\n",
    "                    alpha=0.8, \n",
    "                    color=colors[idx],\n",
    "                    marker=markers[idx], \n",
    "                    label=cl, \n",
    "                    edgecolor='black')\n",
    "\n",
    "    # highlight test examples\n",
    "    if test_idx:\n",
    "        # plot all examples\n",
    "        X_test, y_test = X[test_idx, :], y[test_idx]\n",
    "\n",
    "        \n",
    "        if LooseVersion(matplotlib.__version__) < LooseVersion('0.3.4'):\n",
    "            plt.scatter(X_test[:, 0],\n",
    "                        X_test[:, 1],\n",
    "                        c='',\n",
    "                        edgecolor='black',\n",
    "                        alpha=1.0,\n",
    "                        linewidth=1,\n",
    "                        marker='o',\n",
    "                        s=100, \n",
    "                        label='test set')\n",
    "        else:\n",
    "            plt.scatter(X_test[:, 0],\n",
    "                        X_test[:, 1],\n",
    "                        c='none',\n",
    "                        edgecolor='black',\n",
    "                        alpha=1.0,\n",
    "                        linewidth=1,\n",
    "                        marker='o',\n",
    "                        s=100, \n",
    "                        label='test set')     "
   ]
  },
  {
   "cell_type": "code",
   "execution_count": 25,
   "id": "b3814a9d",
   "metadata": {
    "ExecuteTime": {
     "end_time": "2023-03-21T01:04:02.210117Z",
     "start_time": "2023-03-21T01:04:02.135362Z"
    }
   },
   "outputs": [
    {
     "data": {
      "text/plain": [
       "LogisticRegression(penalty='l1', random_state=0, solver='liblinear')"
      ]
     },
     "execution_count": 25,
     "metadata": {},
     "output_type": "execute_result"
    }
   ],
   "source": [
    "predictor_lr = LogisticRegression(penalty='l1', random_state=0, solver='liblinear')\n",
    "predictor_lr.fit(train_x, train_y)"
   ]
  },
  {
   "cell_type": "code",
   "execution_count": 26,
   "id": "cc9b05bc",
   "metadata": {
    "ExecuteTime": {
     "end_time": "2023-03-21T01:04:02.536022Z",
     "start_time": "2023-03-21T01:04:02.211108Z"
    }
   },
   "outputs": [
    {
     "name": "stderr",
     "output_type": "stream",
     "text": [
      "C:\\Users\\Junya\\AppData\\Local\\Temp/ipykernel_20156/2032430309.py:28: UserWarning: You passed a edgecolor/edgecolors ('black') for an unfilled marker ('x').  Matplotlib is ignoring the edgecolor in favor of the facecolor.  This behavior may change in the future.\n",
      "  plt.scatter(x=X[y == cl, 0],\n"
     ]
    },
    {
     "data": {
      "image/png": "[encoded data removed]",
      "text/plain": [
       "<Figure size 432x288 with 1 Axes>"
      ]
     },
     "metadata": {
      "needs_background": "light"
     },
     "output_type": "display_data"
    }
   ],
   "source": [
    "plot_decision_regions(X=train_x, y=train_y, classifier=predictor_lr)\n",
    "plt.xlabel(f'{val_f[1]}')\n",
    "plt.ylabel(f'{val_f[0]}')\n",
    "plt.legend(loc='upper left')\n",
    "plt.tight_layout()\n",
    "plt.show()"
   ]
  }
 ],
 "metadata": {
  "kernelspec": {
   "display_name": "Python 3 (ipykernel)",
   "language": "python",
   "name": "python3"
  },
  "language_info": {
   "codemirror_mode": {
    "name": "ipython",
    "version": 3
   },
   "file_extension": ".py",
   "mimetype": "text/x-python",
   "name": "python",
   "nbconvert_exporter": "python",
   "pygments_lexer": "ipython3",
   "version": "3.9.7"
  }
 },
 "nbformat": 4,
 "nbformat_minor": 5
}
