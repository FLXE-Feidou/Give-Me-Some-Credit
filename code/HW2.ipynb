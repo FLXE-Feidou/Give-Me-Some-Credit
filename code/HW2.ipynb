{
 "cells": [
  {
   "cell_type": "code",
   "execution_count": 1,
   "id": "7289ebc5",
   "metadata": {
    "ExecuteTime": {
     "end_time": "2023-03-28T02:06:48.934388Z",
     "start_time": "2023-03-28T02:06:48.268491Z"
    }
   },
   "outputs": [
    {
     "name": "stderr",
     "output_type": "stream",
     "text": [
      "C:\\Users\\Junya\\anaconda3\\lib\\site-packages\\scipy\\__init__.py:146: UserWarning: A NumPy version >=1.16.5 and <1.23.0 is required for this version of SciPy (detected version 1.23.5\n",
      "  warnings.warn(f\"A NumPy version >={np_minversion} and <{np_maxversion}\"\n"
     ]
    }
   ],
   "source": [
    "import pandas as pd\n",
    "from scipy.stats.mstats import winsorize\n",
    "from sklearn.decomposition import PCA\n",
    "from sklearn.tree import DecisionTreeClassifier\n",
    "from sklearn.metrics import accuracy_score\n",
    "from scipy.stats.mstats import winsorize\n",
    "from sklearn.model_selection import GridSearchCV \n",
    "from sklearn.preprocessing import StandardScaler\n",
    "from sklearn.pipeline import Pipeline"
   ]
  },
  {
   "cell_type": "markdown",
   "id": "01b7e591",
   "metadata": {},
   "source": [
    "# 1. Load Data"
   ]
  },
  {
   "cell_type": "code",
   "execution_count": 2,
   "id": "dc78a470",
   "metadata": {
    "ExecuteTime": {
     "end_time": "2023-03-28T02:06:49.133331Z",
     "start_time": "2023-03-28T02:06:48.935381Z"
    }
   },
   "outputs": [],
   "source": [
    "train_set = pd.read_csv('cs-training.csv',index_col=0)\n",
    "test_set = pd.read_csv('cs-test.csv',index_col=0)\n",
    "data_desp = pd.read_excel('Data Dictionary.xls',header=1)"
   ]
  },
  {
   "cell_type": "code",
   "execution_count": 3,
   "id": "dda5dda2",
   "metadata": {
    "ExecuteTime": {
     "end_time": "2023-03-28T02:06:49.144295Z",
     "start_time": "2023-03-28T02:06:49.134324Z"
    }
   },
   "outputs": [
    {
     "data": {
      "text/html": [
       "<div>\n",
       "<style scoped>\n",
       "    .dataframe tbody tr th:only-of-type {\n",
       "        vertical-align: middle;\n",
       "    }\n",
       "\n",
       "    .dataframe tbody tr th {\n",
       "        vertical-align: top;\n",
       "    }\n",
       "\n",
       "    .dataframe thead th {\n",
       "        text-align: right;\n",
       "    }\n",
       "</style>\n",
       "<table border=\"1\" class=\"dataframe\">\n",
       "  <thead>\n",
       "    <tr style=\"text-align: right;\">\n",
       "      <th></th>\n",
       "      <th>Variable Name</th>\n",
       "      <th>Description</th>\n",
       "      <th>Type</th>\n",
       "    </tr>\n",
       "  </thead>\n",
       "  <tbody>\n",
       "    <tr>\n",
       "      <th>0</th>\n",
       "      <td>SeriousDlqin2yrs</td>\n",
       "      <td>Person experienced 90 days past due delinquenc...</td>\n",
       "      <td>Y/N</td>\n",
       "    </tr>\n",
       "    <tr>\n",
       "      <th>1</th>\n",
       "      <td>RevolvingUtilizationOfUnsecuredLines</td>\n",
       "      <td>Total balance on credit cards and personal lin...</td>\n",
       "      <td>percentage</td>\n",
       "    </tr>\n",
       "    <tr>\n",
       "      <th>2</th>\n",
       "      <td>age</td>\n",
       "      <td>Age of borrower in years</td>\n",
       "      <td>integer</td>\n",
       "    </tr>\n",
       "    <tr>\n",
       "      <th>3</th>\n",
       "      <td>NumberOfTime30-59DaysPastDueNotWorse</td>\n",
       "      <td>Number of times borrower has been 30-59 days p...</td>\n",
       "      <td>integer</td>\n",
       "    </tr>\n",
       "    <tr>\n",
       "      <th>4</th>\n",
       "      <td>DebtRatio</td>\n",
       "      <td>Monthly debt payments, alimony,living costs di...</td>\n",
       "      <td>percentage</td>\n",
       "    </tr>\n",
       "    <tr>\n",
       "      <th>5</th>\n",
       "      <td>MonthlyIncome</td>\n",
       "      <td>Monthly income</td>\n",
       "      <td>real</td>\n",
       "    </tr>\n",
       "    <tr>\n",
       "      <th>6</th>\n",
       "      <td>NumberOfOpenCreditLinesAndLoans</td>\n",
       "      <td>Number of Open loans (installment like car loa...</td>\n",
       "      <td>integer</td>\n",
       "    </tr>\n",
       "    <tr>\n",
       "      <th>7</th>\n",
       "      <td>NumberOfTimes90DaysLate</td>\n",
       "      <td>Number of times borrower has been 90 days or m...</td>\n",
       "      <td>integer</td>\n",
       "    </tr>\n",
       "    <tr>\n",
       "      <th>8</th>\n",
       "      <td>NumberRealEstateLoansOrLines</td>\n",
       "      <td>Number of mortgage and real estate loans inclu...</td>\n",
       "      <td>integer</td>\n",
       "    </tr>\n",
       "    <tr>\n",
       "      <th>9</th>\n",
       "      <td>NumberOfTime60-89DaysPastDueNotWorse</td>\n",
       "      <td>Number of times borrower has been 60-89 days p...</td>\n",
       "      <td>integer</td>\n",
       "    </tr>\n",
       "    <tr>\n",
       "      <th>10</th>\n",
       "      <td>NumberOfDependents</td>\n",
       "      <td>Number of dependents in family excluding thems...</td>\n",
       "      <td>integer</td>\n",
       "    </tr>\n",
       "  </tbody>\n",
       "</table>\n",
       "</div>"
      ],
      "text/plain": [
       "                           Variable Name  \\\n",
       "0                       SeriousDlqin2yrs   \n",
       "1   RevolvingUtilizationOfUnsecuredLines   \n",
       "2                                    age   \n",
       "3   NumberOfTime30-59DaysPastDueNotWorse   \n",
       "4                              DebtRatio   \n",
       "5                          MonthlyIncome   \n",
       "6        NumberOfOpenCreditLinesAndLoans   \n",
       "7                NumberOfTimes90DaysLate   \n",
       "8           NumberRealEstateLoansOrLines   \n",
       "9   NumberOfTime60-89DaysPastDueNotWorse   \n",
       "10                    NumberOfDependents   \n",
       "\n",
       "                                          Description        Type  \n",
       "0   Person experienced 90 days past due delinquenc...         Y/N  \n",
       "1   Total balance on credit cards and personal lin...  percentage  \n",
       "2                            Age of borrower in years     integer  \n",
       "3   Number of times borrower has been 30-59 days p...     integer  \n",
       "4   Monthly debt payments, alimony,living costs di...  percentage  \n",
       "5                                      Monthly income        real  \n",
       "6   Number of Open loans (installment like car loa...     integer  \n",
       "7   Number of times borrower has been 90 days or m...     integer  \n",
       "8   Number of mortgage and real estate loans inclu...     integer  \n",
       "9   Number of times borrower has been 60-89 days p...     integer  \n",
       "10  Number of dependents in family excluding thems...     integer  "
      ]
     },
     "execution_count": 3,
     "metadata": {},
     "output_type": "execute_result"
    }
   ],
   "source": [
    "data_desp"
   ]
  },
  {
   "cell_type": "markdown",
   "id": "247bf72d",
   "metadata": {},
   "source": [
    "# 2. Feature Selection "
   ]
  },
  {
   "cell_type": "markdown",
   "id": "6707120e",
   "metadata": {},
   "source": [
    "## 2.1 Data Processing "
   ]
  },
  {
   "cell_type": "code",
   "execution_count": 4,
   "id": "4c8b4eb6",
   "metadata": {
    "ExecuteTime": {
     "end_time": "2023-03-28T02:06:49.319708Z",
     "start_time": "2023-03-28T02:06:49.145287Z"
    }
   },
   "outputs": [],
   "source": [
    "train_set.iloc[:, 1:] = train_set.iloc[:, 1:].apply(lambda x: x.fillna(x.mean()), axis=0)\n",
    "train_set.iloc[:, 1:] = train_set.iloc[:, 1:].apply(lambda x: winsorize(x, limits=[0.025, 0.025]), axis=0)\n",
    "train_set.iloc[:, 1:] = train_set.iloc[:, 1:].apply(lambda x: (x-x.mean()) / x.std(), axis=0)"
   ]
  },
  {
   "cell_type": "markdown",
   "id": "0085069d",
   "metadata": {},
   "source": [
    "## 2.2 PCA"
   ]
  },
  {
   "cell_type": "code",
   "execution_count": 5,
   "id": "d1ee37a4",
   "metadata": {
    "ExecuteTime": {
     "end_time": "2023-03-28T02:06:49.543838Z",
     "start_time": "2023-03-28T02:06:49.319708Z"
    }
   },
   "outputs": [],
   "source": [
    "pca = PCA(n_components=3)\n",
    "train_comp = pca.fit_transform(train_set.iloc[:, 1:])"
   ]
  },
  {
   "cell_type": "markdown",
   "id": "43297398",
   "metadata": {},
   "source": [
    "# 3. Grid Search "
   ]
  },
  {
   "cell_type": "code",
   "execution_count": 6,
   "id": "edaab784",
   "metadata": {
    "ExecuteTime": {
     "end_time": "2023-03-28T02:06:49.547827Z",
     "start_time": "2023-03-28T02:06:49.544837Z"
    }
   },
   "outputs": [],
   "source": [
    "param_grid = {'DT__max_depth': [5, 8, 10], \n",
    "              'DT__max_leaf_nodes': [2, 4]}"
   ]
  },
  {
   "cell_type": "code",
   "execution_count": 7,
   "id": "2be18880",
   "metadata": {
    "ExecuteTime": {
     "end_time": "2023-03-28T02:06:49.551814Z",
     "start_time": "2023-03-28T02:06:49.548824Z"
    }
   },
   "outputs": [],
   "source": [
    "estimator = Pipeline([\n",
    "    ('scaler', StandardScaler()),\n",
    "    (\"DT\", DecisionTreeClassifier(criterion='gini', max_depth=5, max_leaf_nodes=2))\n",
    "])"
   ]
  },
  {
   "cell_type": "code",
   "execution_count": 8,
   "id": "85371b68",
   "metadata": {
    "ExecuteTime": {
     "end_time": "2023-03-28T02:06:49.554804Z",
     "start_time": "2023-03-28T02:06:49.551814Z"
    }
   },
   "outputs": [],
   "source": [
    "grid_search = GridSearchCV(\n",
    "    estimator=estimator,\n",
    "    param_grid=param_grid,\n",
    "    n_jobs=-1,\n",
    "    cv=5\n",
    ")"
   ]
  },
  {
   "cell_type": "code",
   "execution_count": 9,
   "id": "3227e04c",
   "metadata": {
    "ExecuteTime": {
     "end_time": "2023-03-28T02:06:51.483094Z",
     "start_time": "2023-03-28T02:06:49.554804Z"
    }
   },
   "outputs": [
    {
     "data": {
      "text/plain": [
       "GridSearchCV(cv=5,\n",
       "             estimator=Pipeline(steps=[('scaler', StandardScaler()),\n",
       "                                       ('DT',\n",
       "                                        DecisionTreeClassifier(max_depth=5,\n",
       "                                                               max_leaf_nodes=2))]),\n",
       "             n_jobs=-1,\n",
       "             param_grid={'DT__max_depth': [5, 8, 10],\n",
       "                         'DT__max_leaf_nodes': [2, 4]})"
      ]
     },
     "execution_count": 9,
     "metadata": {},
     "output_type": "execute_result"
    }
   ],
   "source": [
    "grid_search.fit(train_comp, train_set.iloc[:, 0].values)"
   ]
  },
  {
   "cell_type": "markdown",
   "id": "4667393a",
   "metadata": {},
   "source": [
    "## 3.1 Result"
   ]
  },
  {
   "cell_type": "markdown",
   "id": "9b708489",
   "metadata": {},
   "source": [
    "**Optimal Parameters**"
   ]
  },
  {
   "cell_type": "code",
   "execution_count": 10,
   "id": "6929d0c3",
   "metadata": {
    "ExecuteTime": {
     "end_time": "2023-03-28T02:06:51.489076Z",
     "start_time": "2023-03-28T02:06:51.484091Z"
    }
   },
   "outputs": [
    {
     "data": {
      "text/plain": [
       "Pipeline(steps=[('scaler', StandardScaler()),\n",
       "                ('DT', DecisionTreeClassifier(max_depth=5, max_leaf_nodes=4))])"
      ]
     },
     "execution_count": 10,
     "metadata": {},
     "output_type": "execute_result"
    }
   ],
   "source": [
    "grid_search.best_estimator_"
   ]
  },
  {
   "cell_type": "markdown",
   "id": "f85a6f11",
   "metadata": {},
   "source": [
    "**Best Accuracy**"
   ]
  },
  {
   "cell_type": "code",
   "execution_count": 11,
   "id": "0032323f",
   "metadata": {
    "ExecuteTime": {
     "end_time": "2023-03-28T02:06:51.494058Z",
     "start_time": "2023-03-28T02:06:51.490072Z"
    }
   },
   "outputs": [
    {
     "data": {
      "text/plain": [
       "0.9333666666666668"
      ]
     },
     "execution_count": 11,
     "metadata": {},
     "output_type": "execute_result"
    }
   ],
   "source": [
    "grid_search.best_score_"
   ]
  }
 ],
 "metadata": {
  "kernelspec": {
   "display_name": "Python 3 (ipykernel)",
   "language": "python",
   "name": "python3"
  },
  "language_info": {
   "codemirror_mode": {
    "name": "ipython",
    "version": 3
   },
   "file_extension": ".py",
   "mimetype": "text/x-python",
   "name": "python",
   "nbconvert_exporter": "python",
   "pygments_lexer": "ipython3",
   "version": "3.9.7"
  }
 },
 "nbformat": 4,
 "nbformat_minor": 5
}
